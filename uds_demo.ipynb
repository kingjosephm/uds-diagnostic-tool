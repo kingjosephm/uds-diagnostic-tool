{
 "cells": [
  {
   "cell_type": "code",
   "execution_count": 1,
   "metadata": {},
   "outputs": [],
   "source": [
    "import os\n",
    "from dotenv import load_dotenv\n",
    "import pandas as pd\n",
    "import sqlite3\n",
    "\n",
    "from langchain.chains import SequentialChain, LLMChain\n",
    "from langchain_openai import ChatOpenAI\n",
    "from langchain.prompts import PromptTemplate\n",
    "from langchain.memory import ConversationBufferMemory\n",
    "\n",
    "\n",
    "pd.set_option('display.max_colwidth', None)  # No truncation of column content\n"
   ]
  },
  {
   "cell_type": "markdown",
   "metadata": {},
   "source": [
    "# Initialize LLM"
   ]
  },
  {
   "cell_type": "code",
   "execution_count": 2,
   "metadata": {},
   "outputs": [],
   "source": [
    "# Load environment variables from .env file\n",
    "load_dotenv()\n",
    "\n",
    "# Get the OPENAI_API_KEY from environment variables\n",
    "openai_api_key = os.getenv('OPENAI_API_KEY')\n",
    "\n",
    "llm = ChatOpenAI(api_key=openai_api_key, temperature=0, model=\"gpt-4o-mini\")"
   ]
  },
  {
   "cell_type": "markdown",
   "metadata": {},
   "source": [
    "# Initialize Database Connection for UDS Code Lookup\n",
    "\n",
    "I found that OpenAI's 4o model had a surprisingly poor understanding of UDS codes. It couldn't correctly say which codes are UDS codes, nor the correct meaning of a given code.\n",
    "\n",
    "I created an extract of UDS codes and their meanings, downloaded from [this website](https://uds.readthedocs.io/en/stable/pages/knowledge_base/diagnostic_message.html), broken down by service request (SID) codes and response codes (SID or non-response codes [NRC]). This dataset is stored under [./lookup/uds_codes.xlsx](./lookup/uds_codes.xlsx).\n",
    "\n",
    "Some of the code explanations are verbose or poorly worded. I therefore use `gpt-4o-mini` to summarize these explanations before exporting to the lookup database. These summarized explanations are contained in the database column `Summary`."
   ]
  },
  {
   "cell_type": "code",
   "execution_count": 3,
   "metadata": {},
   "outputs": [],
   "source": [
    "sqlite_path = './lookup/uds_codes.db'  # Path to SQLite database\n",
    "conn = sqlite3.connect(sqlite_path)"
   ]
  },
  {
   "cell_type": "markdown",
   "metadata": {},
   "source": [
    "### Excerpt from UDS lookup database\n",
    "\n",
    "Note - You'll notice below there are duplicate UDS codes. This is by design, as some SID codes have the same value as NRC codes. The primary keys for this table are [Code, Type]"
   ]
  },
  {
   "cell_type": "code",
   "execution_count": 4,
   "metadata": {},
   "outputs": [
    {
     "name": "stdout",
     "output_type": "stream",
     "text": [
      "97\n",
      "(121, 3)\n"
     ]
    },
    {
     "data": {
      "text/html": [
       "<div>\n",
       "<style scoped>\n",
       "    .dataframe tbody tr th:only-of-type {\n",
       "        vertical-align: middle;\n",
       "    }\n",
       "\n",
       "    .dataframe tbody tr th {\n",
       "        vertical-align: top;\n",
       "    }\n",
       "\n",
       "    .dataframe thead th {\n",
       "        text-align: right;\n",
       "    }\n",
       "</style>\n",
       "<table border=\"1\" class=\"dataframe\">\n",
       "  <thead>\n",
       "    <tr style=\"text-align: right;\">\n",
       "      <th></th>\n",
       "      <th>Code</th>\n",
       "      <th>Type</th>\n",
       "      <th>Summary</th>\n",
       "    </tr>\n",
       "  </thead>\n",
       "  <tbody>\n",
       "    <tr>\n",
       "      <th>0</th>\n",
       "      <td>0x00</td>\n",
       "      <td>Negative Response Code</td>\n",
       "      <td>Negative Response Code: Positive response parameter reserved for server internal implementation.</td>\n",
       "    </tr>\n",
       "    <tr>\n",
       "      <th>1</th>\n",
       "      <td>0x10</td>\n",
       "      <td>Service Request</td>\n",
       "      <td>Service Request: Controls diagnostic sessions on servers, enabling different services and functionalities.</td>\n",
       "    </tr>\n",
       "    <tr>\n",
       "      <th>2</th>\n",
       "      <td>0x10</td>\n",
       "      <td>Negative Response Code</td>\n",
       "      <td>Negative Response Code: The server has rejected the requested action, indicated by a General Reject NRC.</td>\n",
       "    </tr>\n",
       "    <tr>\n",
       "      <th>3</th>\n",
       "      <td>0x11</td>\n",
       "      <td>Service Request</td>\n",
       "      <td>Service Request: ECU Reset: Client requests a server reset.</td>\n",
       "    </tr>\n",
       "    <tr>\n",
       "      <th>4</th>\n",
       "      <td>0x11</td>\n",
       "      <td>Negative Response Code</td>\n",
       "      <td>Negative Response Code: Service not supported; the server cannot fulfill the requested action.</td>\n",
       "    </tr>\n",
       "    <tr>\n",
       "      <th>5</th>\n",
       "      <td>0x12</td>\n",
       "      <td>Negative Response Code</td>\n",
       "      <td>Negative Response Code: Server cannot process the request due to unsupported service parameters.</td>\n",
       "    </tr>\n",
       "    <tr>\n",
       "      <th>6</th>\n",
       "      <td>0x13</td>\n",
       "      <td>Negative Response Code</td>\n",
       "      <td>Negative Response Code: NRC indicates request message length or format is incorrect for the specified service.</td>\n",
       "    </tr>\n",
       "    <tr>\n",
       "      <th>7</th>\n",
       "      <td>0x14</td>\n",
       "      <td>Service Request</td>\n",
       "      <td>Service Request: Clears all diagnostic information in one or multiple servers' memory.</td>\n",
       "    </tr>\n",
       "    <tr>\n",
       "      <th>8</th>\n",
       "      <td>0x14</td>\n",
       "      <td>Negative Response Code</td>\n",
       "      <td>Negative Response Code: Response exceeds maximum size allowed by network layer or server buffer limits.</td>\n",
       "    </tr>\n",
       "    <tr>\n",
       "      <th>9</th>\n",
       "      <td>0x19</td>\n",
       "      <td>Service Request</td>\n",
       "      <td>Service Request: Reads current Diagnostic Trouble Codes and related information from vehicle servers.</td>\n",
       "    </tr>\n",
       "  </tbody>\n",
       "</table>\n",
       "</div>"
      ],
      "text/plain": [
       "   Code                    Type  \\\n",
       "0  0x00  Negative Response Code   \n",
       "1  0x10         Service Request   \n",
       "2  0x10  Negative Response Code   \n",
       "3  0x11         Service Request   \n",
       "4  0x11  Negative Response Code   \n",
       "5  0x12  Negative Response Code   \n",
       "6  0x13  Negative Response Code   \n",
       "7  0x14         Service Request   \n",
       "8  0x14  Negative Response Code   \n",
       "9  0x19         Service Request   \n",
       "\n",
       "                                                                                                          Summary  \n",
       "0                Negative Response Code: Positive response parameter reserved for server internal implementation.  \n",
       "1      Service Request: Controls diagnostic sessions on servers, enabling different services and functionalities.  \n",
       "2        Negative Response Code: The server has rejected the requested action, indicated by a General Reject NRC.  \n",
       "3                                                     Service Request: ECU Reset: Client requests a server reset.  \n",
       "4                  Negative Response Code: Service not supported; the server cannot fulfill the requested action.  \n",
       "5                Negative Response Code: Server cannot process the request due to unsupported service parameters.  \n",
       "6  Negative Response Code: NRC indicates request message length or format is incorrect for the specified service.  \n",
       "7                          Service Request: Clears all diagnostic information in one or multiple servers' memory.  \n",
       "8         Negative Response Code: Response exceeds maximum size allowed by network layer or server buffer limits.  \n",
       "9           Service Request: Reads current Diagnostic Trouble Codes and related information from vehicle servers.  "
      ]
     },
     "execution_count": 4,
     "metadata": {},
     "output_type": "execute_result"
    }
   ],
   "source": [
    "codes = pd.read_sql_query(f\"SELECT * FROM uds_codes;\", conn)\n",
    "print(codes['Code'].nunique())\n",
    "print(codes.shape)\n",
    "codes.head(10)"
   ]
  },
  {
   "cell_type": "code",
   "execution_count": 5,
   "metadata": {},
   "outputs": [
    {
     "data": {
      "text/plain": [
       "Type\n",
       "Negative Response Code    64\n",
       "Service Response          29\n",
       "Service Request           28\n",
       "Name: count, dtype: int64"
      ]
     },
     "execution_count": 5,
     "metadata": {},
     "output_type": "execute_result"
    }
   ],
   "source": [
    "codes['Type'].value_counts()"
   ]
  },
  {
   "cell_type": "markdown",
   "metadata": {},
   "source": [
    "# Functions"
   ]
  },
  {
   "cell_type": "code",
   "execution_count": 6,
   "metadata": {},
   "outputs": [],
   "source": [
    "# Define query functions for Request (SID) codes\n",
    "def query_request_code(sid):\n",
    "    \"\"\"Query SQLite database for a SID code with 'Service Request' type.\"\"\"\n",
    "    query = \"SELECT Summary FROM uds_codes WHERE Code = ? AND Type = 'Service Request'\"\n",
    "    result = pd.read_sql_query(query, conn, params=(sid,))\n",
    "    return result.iloc[0, 0] if not result.empty else \"Code not found\"\n",
    "\n",
    "\n",
    "# Define query function for Response (SID/NRC) codes\n",
    "def query_response_code(reply):\n",
    "    \"\"\"Query SQLite database for a Reply code with either 'Service Response' or 'Negative Response Code' types.\"\"\"\n",
    "    query = \"SELECT Summary FROM uds_codes WHERE Code = ? AND Type IN ('Service Response', 'Negative Response Code')\"\n",
    "    result = pd.read_sql_query(query, conn, params=(reply,))\n",
    "    return result.iloc[0, 0] if not result.empty else \"Code not found\"\n",
    "\n",
    "# Function for the lookup agent to interpret the Excel workbook\n",
    "def lookup_codes_from_workbook(workbook_path) -> pd.Series:\n",
    "    \"\"\"Read an Excel workbook, look up explanations for each SID Request and SID/NRC Reply code, and return summaries as pd.Series.\"\"\"\n",
    "    \n",
    "    # Load the workbook\n",
    "    df = pd.read_excel(workbook_path)\n",
    "    \n",
    "    template = \"\"\" You are a helpful assistant that summarizes Unified Diagnostic Service (UDS) network communication between a SID request and SID/NRC response.\n",
    "    \n",
    "    Use the provided metadata to summarize what is being requested and the system response. Here is the data:\n",
    "    \n",
    "    Request: {request}\n",
    "    Response: {response}\n",
    "    \n",
    "    Provide a concise (max. 15 word) summary using only the information given.\n",
    "    \n",
    "    \"\"\"\n",
    "    \n",
    "    prompt = PromptTemplate(\n",
    "        input_variables=[\"request\", \"response\"],\n",
    "        template=template,\n",
    "    )\n",
    "    \n",
    "    chain = prompt | llm\n",
    "    \n",
    "    print(\"Creating summaries of each request-response message pair... \\n\")\n",
    "    total_count = len(df)\n",
    "    count_width = len(str(total_count))\n",
    "    \n",
    "    # Iterate through each row, looking up the request (SID) and response (SID/NRC) explanations and creating a summary\n",
    "    summaries = []\n",
    "    for count, row in df.iterrows():\n",
    "        request_code = row['sid']\n",
    "        response_code = row['reply']\n",
    "        \n",
    "        # Look up explanations\n",
    "        request = query_request_code(request_code)\n",
    "        response = query_response_code(response_code)\n",
    "        \n",
    "        summary = chain.invoke({\"request\": request, \"response\": response}).content\n",
    "        print(f\"{count+1:>{count_width}}\", \"    \", summary)\n",
    "        \n",
    "        # Append summary for each row\n",
    "        summaries.append(summary)\n",
    "\n",
    "    return pd.Series(summaries)\n",
    "\n",
    "\n",
    "def summarize_messages(summaries: pd.Series) -> str:\n",
    "    \"\"\" Summarize a series of text messages into a concise summary using the provided summaries.\"\"\"\n",
    "    \n",
    "    template = \"\"\" Summarize the following messages in the provided series of text messages.\n",
    "    \n",
    "    Messages: {messages}\n",
    "    \n",
    "    Provide a concise (max. 25 word) summary using only the information given.\n",
    "    \n",
    "    \"\"\"\n",
    "    \n",
    "    prompt = PromptTemplate(\n",
    "        input_variables=[\"messages\"],\n",
    "        template=template,\n",
    "    )\n",
    "    \n",
    "    chain = prompt | llm\n",
    "    \n",
    "    result = chain.invoke({\"messages\": summaries.to_string()}).content\n",
    "    \n",
    "    print(result)\n",
    "    \n",
    "    return result"
   ]
  },
  {
   "cell_type": "markdown",
   "metadata": {},
   "source": [
    "# Diagnostic Files"
   ]
  },
  {
   "cell_type": "code",
   "execution_count": 7,
   "metadata": {},
   "outputs": [
    {
     "data": {
      "text/plain": [
       "['PreconditionCheckFailA2.xlsx',\n",
       " 'EMSSecurityAccessFailure.xlsx',\n",
       " 'EMSSessionNoRes.xlsx',\n",
       " 'Endless78.xlsx',\n",
       " 'EMSSessionNoResp.xlsx',\n",
       " 'EMSSession11.xlsx',\n",
       " 'sessionfailureEMS.xlsx',\n",
       " 'EMSSession13.xlsx',\n",
       " 'vinfailure_stop.xlsx',\n",
       " 'EMSSession12.xlsx',\n",
       " 'PreconditionCheckNegResp.xlsx',\n",
       " 'vinfailure_continue.xlsx',\n",
       " 'EMSSession14.xlsx']"
      ]
     },
     "execution_count": 7,
     "metadata": {},
     "output_type": "execute_result"
    }
   ],
   "source": [
    "files = [i for i in os.listdir('./data') if i.endswith('.xlsx')]\n",
    "files"
   ]
  },
  {
   "cell_type": "markdown",
   "metadata": {},
   "source": [
    "# Generate Summary"
   ]
  },
  {
   "cell_type": "code",
   "execution_count": 8,
   "metadata": {},
   "outputs": [
    {
     "name": "stdout",
     "output_type": "stream",
     "text": [
      "Creating summaries of each request-response message pair... \n",
      "\n",
      " 1      Client connects to vehicle; server responds with internal implementation code, no positive response.\n",
      " 2      Client connects to vehicle; response indicates code not found.\n",
      " 3      Client connects to vehicle; server responds with internal implementation code, no positive response.\n",
      " 4      Client connected to vehicle; active diagnostic services requested, but code not found.\n",
      " 5      Client requests data records; server responds with a negative response code.\n",
      " 6      Client requests data records; server responds with \"Code not found.\"\n",
      " 7      Request to control diagnostic sessions; response indicates reserved positive parameter for internal use.\n",
      " 8      Request for diagnostic session control; response indicates the code was not found.\n",
      " 9      Client connects to vehicle; server responds with internal implementation code, no positive response.\n",
      "10      Client connected to vehicle; diagnostic service request resulted in \"Code not found\" response.\n",
      "11      Client connects to vehicle; server responds with internal implementation code, no positive response.\n",
      "12      Client connects to vehicle; response indicates code not found.\n",
      "13      Client requests data records; server responds with a negative response code.\n",
      "14      Client requests data records; server responds with \"Code not found.\"\n",
      "15      Request to control diagnostic sessions; response indicates reserved positive parameter for internal use.\n",
      "16      Security Access request received; server reserved positive response for internal use.\n",
      "17      Security Access request failed; response indicates code not found.\n",
      "18      Security Access request denied; positive response reserved for internal server use.\n",
      "19      Security Access request failed; code not found in the system response.\n",
      "20      Routine Control request received; server responds with a reserved positive response parameter.\n",
      "21      Routine Control request failed; response indicates the requested code was not found.\n"
     ]
    }
   ],
   "source": [
    "summaries = lookup_codes_from_workbook(os.path.join('./data', files[0]))"
   ]
  },
  {
   "cell_type": "code",
   "execution_count": 9,
   "metadata": {},
   "outputs": [
    {
     "name": "stdout",
     "output_type": "stream",
     "text": [
      "Client repeatedly connects to the vehicle, but encounters multiple \"code not found\" responses and reserved parameters for internal use across various requests.\n"
     ]
    }
   ],
   "source": [
    "cumulative_summary = summarize_messages(summaries)"
   ]
  }
 ],
 "metadata": {
  "kernelspec": {
   "display_name": "uds_logs",
   "language": "python",
   "name": "python3"
  },
  "language_info": {
   "codemirror_mode": {
    "name": "ipython",
    "version": 3
   },
   "file_extension": ".py",
   "mimetype": "text/x-python",
   "name": "python",
   "nbconvert_exporter": "python",
   "pygments_lexer": "ipython3",
   "version": "3.12.2"
  }
 },
 "nbformat": 4,
 "nbformat_minor": 2
}
