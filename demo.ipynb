{
 "cells": [
  {
   "cell_type": "code",
   "execution_count": 1,
   "metadata": {},
   "outputs": [],
   "source": [
    "import pandas as pd\n",
    "import numpy as np\n",
    "import nest_asyncio\n",
    "import asyncio\n",
    "import os\n",
    "from dotenv import load_dotenv\n",
    "from langchain_openai import ChatOpenAI\n",
    "from langchain.prompts import PromptTemplate\n",
    "\n",
    "from utils import read_pcap_file, combine_request_reply\n",
    "\n",
    "nest_asyncio.apply()  # Needed for running the async function in the notebook\n",
    "\n",
    "\n",
    "pd.set_option('display.max_colwidth', None)  # No truncation of column content"
   ]
  },
  {
   "cell_type": "markdown",
   "metadata": {},
   "source": [
    "# PCAP files"
   ]
  },
  {
   "cell_type": "code",
   "execution_count": 2,
   "metadata": {},
   "outputs": [
    {
     "data": {
      "text/plain": [
       "['sessionfailureEMS.pcap',\n",
       " 'EMSSessionNoResp.pcap',\n",
       " 'EMSSession11.pcap',\n",
       " 'EMSSecurityAccessFailure.pcap',\n",
       " 'PreconditionCheckFailA2.pcap',\n",
       " 'Endless78.pcap',\n",
       " 'vinfailure_continue.pcap',\n",
       " 'EMSSession14.pcap',\n",
       " 'PreconditionCheckNegResp.pcap',\n",
       " 'EMSSession12.pcap',\n",
       " 'EMSSession13.pcap',\n",
       " 'vinfailure_stop.pcap']"
      ]
     },
     "execution_count": 2,
     "metadata": {},
     "output_type": "execute_result"
    }
   ],
   "source": [
    "dir_contents = [i for i in os.listdir(\"./data\") if \".pcap\" in i]\n",
    "dir_contents"
   ]
  },
  {
   "cell_type": "markdown",
   "metadata": {},
   "source": [
    "# Read PCAP, Convert DataFrame"
   ]
  },
  {
   "cell_type": "code",
   "execution_count": 3,
   "metadata": {},
   "outputs": [
    {
     "data": {
      "text/html": [
       "<div>\n",
       "<style scoped>\n",
       "    .dataframe tbody tr th:only-of-type {\n",
       "        vertical-align: middle;\n",
       "    }\n",
       "\n",
       "    .dataframe tbody tr th {\n",
       "        vertical-align: top;\n",
       "    }\n",
       "\n",
       "    .dataframe thead th {\n",
       "        text-align: right;\n",
       "    }\n",
       "</style>\n",
       "<table border=\"1\" class=\"dataframe\">\n",
       "  <thead>\n",
       "    <tr style=\"text-align: right;\">\n",
       "      <th></th>\n",
       "      <th>number</th>\n",
       "      <th>timestamp</th>\n",
       "      <th>source</th>\n",
       "      <th>target</th>\n",
       "      <th>request</th>\n",
       "      <th>sid</th>\n",
       "      <th>error</th>\n",
       "    </tr>\n",
       "  </thead>\n",
       "  <tbody>\n",
       "    <tr>\n",
       "      <th>0</th>\n",
       "      <td>10</td>\n",
       "      <td>2024-09-18 11:35:32</td>\n",
       "      <td>0x0e00</td>\n",
       "      <td>0x1032</td>\n",
       "      <td>True</td>\n",
       "      <td>0x3E</td>\n",
       "      <td>N/A</td>\n",
       "    </tr>\n",
       "    <tr>\n",
       "      <th>1</th>\n",
       "      <td>12</td>\n",
       "      <td>2024-09-18 11:35:32</td>\n",
       "      <td>0x1032</td>\n",
       "      <td>0x0e00</td>\n",
       "      <td>False</td>\n",
       "      <td>0x7E</td>\n",
       "      <td>N/A</td>\n",
       "    </tr>\n",
       "    <tr>\n",
       "      <th>2</th>\n",
       "      <td>14</td>\n",
       "      <td>2024-09-18 11:35:32</td>\n",
       "      <td>0x0e00</td>\n",
       "      <td>0x1032</td>\n",
       "      <td>True</td>\n",
       "      <td>0x3E</td>\n",
       "      <td>N/A</td>\n",
       "    </tr>\n",
       "    <tr>\n",
       "      <th>3</th>\n",
       "      <td>16</td>\n",
       "      <td>2024-09-18 11:35:32</td>\n",
       "      <td>0x1032</td>\n",
       "      <td>0x0e00</td>\n",
       "      <td>False</td>\n",
       "      <td>0x7E</td>\n",
       "      <td>N/A</td>\n",
       "    </tr>\n",
       "    <tr>\n",
       "      <th>4</th>\n",
       "      <td>18</td>\n",
       "      <td>2024-09-18 11:35:32</td>\n",
       "      <td>0x0e00</td>\n",
       "      <td>0x1032</td>\n",
       "      <td>True</td>\n",
       "      <td>0x22</td>\n",
       "      <td>N/A</td>\n",
       "    </tr>\n",
       "  </tbody>\n",
       "</table>\n",
       "</div>"
      ],
      "text/plain": [
       "  number            timestamp  source  target request   sid error\n",
       "0     10  2024-09-18 11:35:32  0x0e00  0x1032    True  0x3E   N/A\n",
       "1     12  2024-09-18 11:35:32  0x1032  0x0e00   False  0x7E   N/A\n",
       "2     14  2024-09-18 11:35:32  0x0e00  0x1032    True  0x3E   N/A\n",
       "3     16  2024-09-18 11:35:32  0x1032  0x0e00   False  0x7E   N/A\n",
       "4     18  2024-09-18 11:35:32  0x0e00  0x1032    True  0x22   N/A"
      ]
     },
     "execution_count": 3,
     "metadata": {},
     "output_type": "execute_result"
    }
   ],
   "source": [
    "pcap_file = 'EMSSecurityAccessFailure.pcap'\n",
    "\n",
    "file_path = os.path.join(\"data\", pcap_file)\n",
    "\n",
    "df = asyncio.run(read_pcap_file(file_path))\n",
    "\n",
    "df.head()\n"
   ]
  },
  {
   "cell_type": "markdown",
   "metadata": {},
   "source": [
    "# Merge Request and Reply into One Row"
   ]
  },
  {
   "cell_type": "code",
   "execution_count": 4,
   "metadata": {},
   "outputs": [
    {
     "data": {
      "text/html": [
       "<div>\n",
       "<style scoped>\n",
       "    .dataframe tbody tr th:only-of-type {\n",
       "        vertical-align: middle;\n",
       "    }\n",
       "\n",
       "    .dataframe tbody tr th {\n",
       "        vertical-align: top;\n",
       "    }\n",
       "\n",
       "    .dataframe thead th {\n",
       "        text-align: right;\n",
       "    }\n",
       "</style>\n",
       "<table border=\"1\" class=\"dataframe\">\n",
       "  <thead>\n",
       "    <tr style=\"text-align: right;\">\n",
       "      <th></th>\n",
       "      <th>request_sid</th>\n",
       "      <th>reply_sid</th>\n",
       "      <th>error</th>\n",
       "    </tr>\n",
       "  </thead>\n",
       "  <tbody>\n",
       "    <tr>\n",
       "      <th>0</th>\n",
       "      <td>0x3E</td>\n",
       "      <td>0x7E</td>\n",
       "      <td>N/A</td>\n",
       "    </tr>\n",
       "    <tr>\n",
       "      <th>1</th>\n",
       "      <td>0x3E</td>\n",
       "      <td>0x7E</td>\n",
       "      <td>N/A</td>\n",
       "    </tr>\n",
       "    <tr>\n",
       "      <th>2</th>\n",
       "      <td>0x22</td>\n",
       "      <td>0x62</td>\n",
       "      <td>N/A</td>\n",
       "    </tr>\n",
       "    <tr>\n",
       "      <th>3</th>\n",
       "      <td>0x10</td>\n",
       "      <td>0x50</td>\n",
       "      <td>N/A</td>\n",
       "    </tr>\n",
       "    <tr>\n",
       "      <th>4</th>\n",
       "      <td>0x3E</td>\n",
       "      <td>0x7E</td>\n",
       "      <td>N/A</td>\n",
       "    </tr>\n",
       "    <tr>\n",
       "      <th>5</th>\n",
       "      <td>0x3E</td>\n",
       "      <td>0x7E</td>\n",
       "      <td>N/A</td>\n",
       "    </tr>\n",
       "    <tr>\n",
       "      <th>6</th>\n",
       "      <td>0x22</td>\n",
       "      <td>0x62</td>\n",
       "      <td>N/A</td>\n",
       "    </tr>\n",
       "    <tr>\n",
       "      <th>7</th>\n",
       "      <td>0x10</td>\n",
       "      <td>0x67</td>\n",
       "      <td>N/A</td>\n",
       "    </tr>\n",
       "    <tr>\n",
       "      <th>8</th>\n",
       "      <td>0x27</td>\n",
       "      <td>0x7F</td>\n",
       "      <td>0x22</td>\n",
       "    </tr>\n",
       "  </tbody>\n",
       "</table>\n",
       "</div>"
      ],
      "text/plain": [
       "  request_sid reply_sid error\n",
       "0        0x3E      0x7E   N/A\n",
       "1        0x3E      0x7E   N/A\n",
       "2        0x22      0x62   N/A\n",
       "3        0x10      0x50   N/A\n",
       "4        0x3E      0x7E   N/A\n",
       "5        0x3E      0x7E   N/A\n",
       "6        0x22      0x62   N/A\n",
       "7        0x10      0x67   N/A\n",
       "8        0x27      0x7F  0x22"
      ]
     },
     "execution_count": 4,
     "metadata": {},
     "output_type": "execute_result"
    }
   ],
   "source": [
    "reply_request = combine_request_reply(df)\n",
    "reply_request"
   ]
  },
  {
   "cell_type": "markdown",
   "metadata": {},
   "source": [
    "# Initialize LLM"
   ]
  },
  {
   "cell_type": "code",
   "execution_count": 5,
   "metadata": {},
   "outputs": [],
   "source": [
    "# Load environment variables from .env file\n",
    "load_dotenv()\n",
    "\n",
    "# Get the OPENAI_API_KEY from environment variables\n",
    "openai_api_key = os.getenv('OPENAI_API_KEY')\n",
    "\n",
    "llm = ChatOpenAI(api_key=openai_api_key, temperature=0, model=\"gpt-4o\")"
   ]
  },
  {
   "cell_type": "code",
   "execution_count": 8,
   "metadata": {},
   "outputs": [
    {
     "name": "stdout",
     "output_type": "stream",
     "text": [
      "\n",
      "Summary: \n",
      " The ECU system is mostly responsive, but a security access request (0x27) failed with a \"Conditions Not Correct\" error (0x7F 0x22).\n"
     ]
    }
   ],
   "source": [
    "template = \"\"\" The following is a DataFrame of paired request and reply messages (and possible errors) from a vehicle's \n",
    "Electronic Control Unit (ECU) system connected to a diagnostic tool. Each row represents a message sent from the \n",
    "diagnostic tool and the ECU's response. These messages are coded in the Unified Diagnostic Services (UDS) protocol.\n",
    "\n",
    "Using your understanding of UDS SID and error codes, create a concise summary (max. 25 words) of what's happening and any potential \n",
    "errors with the system.\n",
    "\n",
    "Messages: {messages}\n",
    "\"\"\"\n",
    "\n",
    "prompt = PromptTemplate(\n",
    "    input_variables=[\"messages\"],\n",
    "    template=template,\n",
    ")\n",
    "\n",
    "chain = prompt | llm\n",
    "\n",
    "result = chain.invoke({\"messages\": reply_request.to_string()}).content\n",
    "\n",
    "print(\"\\nSummary: \\n\", result)"
   ]
  }
 ],
 "metadata": {
  "kernelspec": {
   "display_name": "uds_logs",
   "language": "python",
   "name": "python3"
  },
  "language_info": {
   "codemirror_mode": {
    "name": "ipython",
    "version": 3
   },
   "file_extension": ".py",
   "mimetype": "text/x-python",
   "name": "python",
   "nbconvert_exporter": "python",
   "pygments_lexer": "ipython3",
   "version": "3.12.2"
  }
 },
 "nbformat": 4,
 "nbformat_minor": 2
}
